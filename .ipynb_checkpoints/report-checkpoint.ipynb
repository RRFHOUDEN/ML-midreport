{
 "cells": [
  {
   "cell_type": "markdown",
   "metadata": {},
   "source": [
    "# problem1"
   ]
  },
  {
   "cell_type": "code",
   "execution_count": 1,
   "metadata": {},
   "outputs": [],
   "source": [
    "# ML課題\n",
    "# (1)\n",
    "import numpy as np"
   ]
  },
  {
   "cell_type": "code",
   "execution_count": 2,
   "metadata": {},
   "outputs": [],
   "source": [
    "def function(xx, ww):\n",
    "    # ww is numpy matrix\n",
    "    return 2 * (ww.T * xx > 0) - 1\n"
   ]
  },
  {
   "cell_type": "code",
   "execution_count": 3,
   "metadata": {},
   "outputs": [],
   "source": [
    "def J(xx, y, ww, lam):\n",
    "    res = 0\n",
    "    for i in range(n):\n",
    "        res = np.log(1+np.exp(-y[i]*ww.T*xx[i]))\n",
    "    res += lam * ww.T * ww\n",
    "    return res"
   ]
  },
  {
   "cell_type": "code",
   "execution_count": 4,
   "metadata": {},
   "outputs": [],
   "source": [
    "# dataset\n",
    "def make_dataset(n):\n",
    "    x = 3 * (np.random.rand(n,4) - 0.5)\n",
    "    y = (2 * x[:,0] - 1 * x[:,2] + 0.5 + 0.5*np.random.randn(1,n)) > 0\n",
    "    y = 2 * y - 1\n",
    "    y = y.T\n",
    "    return x, y"
   ]
  },
  {
   "cell_type": "code",
   "execution_count": 27,
   "metadata": {},
   "outputs": [],
   "source": [
    "# optimize algorithm1\n",
    "def gradient(xx, y, ww, lam):\n",
    "    res = 0\n",
    "    for i in range(n):\n",
    "        res += -y[i]*xx[i]*np.exp(-y[i]*np.dot(ww, xx[i])) / (1+np.exp(-y[i]*np.dot(ww, xx[i])))\n",
    "    res += 2*lam*ww\n",
    "    return res\n",
    "\n",
    "\n",
    "# optimize algorithm2\n",
    "def newton(xx, y, ww, lam):\n",
    "    res = 0\n",
    "    for i in range(n):\n",
    "        tmp = -y[i]*xx[i]*np.exp(-y[i]*ww.T*xx[i])\n",
    "        \n",
    "        tmp *= -y[i]**2*xx[i].T*xx[i]*np.exp(-y[i]*ww.T*xx[i])\n",
    "        tmp *= (1+np.exp(-y[i]*ww.T*xx[i]))\n",
    "        \n",
    "        tmp2 = -y[i]*xx[i]*np.exp(-y[i]*ww.T*xx[i])\n",
    "        tmp2 *= (1+np.exp(-y[i]*ww.T*xx[i]))\n",
    "        tmp2 *= -y[i]*xx[i]*np.exp(-y[i]*ww.T*xx[i])\n",
    "        \n",
    "        tmp3 = (1+np.exp(-y[i]*ww.T*xx[i]))**2\n",
    "        \n",
    "        res += (tmp-tmp2) / tmp3\n",
    "        \n",
    "    res += 2*lam\n",
    "    return res\n",
    "\n",
    "\n",
    "def optimizer(num, xx, y, ww, lam, eta):\n",
    "    if num == 0:\n",
    "        grad = gradient(xx, y, ww, lam)\n",
    "    if num == 1:\n",
    "        grad = newton(xx, y, ww, lam)\n",
    "    ww = ww - eta*grad\n",
    "    return ww"
   ]
  },
  {
   "cell_type": "code",
   "execution_count": 50,
   "metadata": {
    "scrolled": true
   },
   "outputs": [
    {
     "name": "stderr",
     "output_type": "stream",
     "text": [
      "<ipython-input-27-1ab824c5fb66>:17: RuntimeWarning: overflow encountered in multiply\n",
      "  tmp *= -y[i]**2*xx[i].T*xx[i]*np.exp(-y[i]*ww.T*xx[i])\n",
      "<ipython-input-27-1ab824c5fb66>:21: RuntimeWarning: overflow encountered in multiply\n",
      "  tmp2 *= (1+np.exp(-y[i]*ww.T*xx[i]))\n",
      "<ipython-input-27-1ab824c5fb66>:24: RuntimeWarning: overflow encountered in square\n",
      "  tmp3 = (1+np.exp(-y[i]*ww.T*xx[i]))**2\n",
      "<ipython-input-27-1ab824c5fb66>:26: RuntimeWarning: invalid value encountered in true_divide\n",
      "  res += (tmp-tmp2) / tmp3\n",
      "<ipython-input-27-1ab824c5fb66>:18: RuntimeWarning: overflow encountered in multiply\n",
      "  tmp *= (1+np.exp(-y[i]*ww.T*xx[i]))\n",
      "<ipython-input-27-1ab824c5fb66>:22: RuntimeWarning: overflow encountered in multiply\n",
      "  tmp2 *= -y[i]*xx[i]*np.exp(-y[i]*ww.T*xx[i])\n",
      "<ipython-input-3-14af0d9f00c2>:4: RuntimeWarning: overflow encountered in exp\n",
      "  res = np.log(1+np.exp(-y[i]*ww.T*xx[i]))\n",
      "<ipython-input-27-1ab824c5fb66>:15: RuntimeWarning: overflow encountered in exp\n",
      "  tmp = -y[i]*xx[i]*np.exp(-y[i]*ww.T*xx[i])\n",
      "<ipython-input-27-1ab824c5fb66>:17: RuntimeWarning: overflow encountered in exp\n",
      "  tmp *= -y[i]**2*xx[i].T*xx[i]*np.exp(-y[i]*ww.T*xx[i])\n",
      "<ipython-input-27-1ab824c5fb66>:18: RuntimeWarning: overflow encountered in exp\n",
      "  tmp *= (1+np.exp(-y[i]*ww.T*xx[i]))\n",
      "<ipython-input-27-1ab824c5fb66>:20: RuntimeWarning: overflow encountered in exp\n",
      "  tmp2 = -y[i]*xx[i]*np.exp(-y[i]*ww.T*xx[i])\n",
      "<ipython-input-27-1ab824c5fb66>:21: RuntimeWarning: overflow encountered in exp\n",
      "  tmp2 *= (1+np.exp(-y[i]*ww.T*xx[i]))\n",
      "<ipython-input-27-1ab824c5fb66>:22: RuntimeWarning: overflow encountered in exp\n",
      "  tmp2 *= -y[i]*xx[i]*np.exp(-y[i]*ww.T*xx[i])\n",
      "<ipython-input-27-1ab824c5fb66>:24: RuntimeWarning: overflow encountered in exp\n",
      "  tmp3 = (1+np.exp(-y[i]*ww.T*xx[i]))**2\n",
      "<ipython-input-27-1ab824c5fb66>:26: RuntimeWarning: invalid value encountered in subtract\n",
      "  res += (tmp-tmp2) / tmp3\n"
     ]
    },
    {
     "data": {
      "text/plain": [
       "[<matplotlib.lines.Line2D at 0x155f4d78>]"
      ]
     },
     "execution_count": 50,
     "metadata": {},
     "output_type": "execute_result"
    },
    {
     "data": {
      "image/png": "[encoded data removed]",
      "text/plain": [
       "<Figure size 432x288 with 1 Axes>"
      ]
     },
     "metadata": {
      "needs_background": "light"
     },
     "output_type": "display_data"
    }
   ],
   "source": [
    "n = 200\n",
    "xx, y = make_dataset(n)\n",
    "np.random.seed(1234)\n",
    "\n",
    "ww = np.random.rand(4)\n",
    "lam = 0.001\n",
    "eta = 0.01\n",
    "\n",
    "losses = np.zeros([100, 4])\n",
    "num = [0 for _ in range(100)]\n",
    "\n",
    "\n",
    "for i in range(100):\n",
    "    ww = optimizer(1, xx, y, ww, lam, eta)\n",
    "    loss = J(xx, y, ww, lam)\n",
    "    losses[i] = loss\n",
    "\n",
    "\n",
    "num = np.linspace(0, 10, 100)\n",
    "import matplotlib.pyplot as plt\n",
    "plt.plot(num, losses[:,0], label=\"test\")\n",
    "plt.plot(num, losses[:,1], label=\"test\")\n",
    "plt.plot(num, losses[:,2], label=\"test\")\n",
    "plt.plot(num, losses[:,3], label=\"test\")"
   ]
  },
  {
   "cell_type": "code",
   "execution_count": 18,
   "metadata": {},
   "outputs": [
    {
     "name": "stdout",
     "output_type": "stream",
     "text": [
      "[ 0.83992742 -0.68222218 -0.67060723  0.90561653]\n",
      "2.4283895590772033 [ 2.5336377  -0.22237443  0.43127604 -0.31414975]\n",
      "(4,)\n"
     ]
    }
   ],
   "source": [
    "xx[0].shape\n",
    "ww.shape\n",
    "print(xx[0].T)\n",
    "print(np.dot(xx[0], ww), xx[0].T*ww)\n",
    "print(xx[0].T.shape)"
   ]
  },
  {
   "cell_type": "markdown",
   "metadata": {},
   "source": [
    "# problem2"
   ]
  },
  {
   "cell_type": "code",
   "execution_count": null,
   "metadata": {},
   "outputs": [],
   "source": [
    "import numpy as np"
   ]
  },
  {
   "cell_type": "code",
   "execution_count": 236,
   "metadata": {},
   "outputs": [],
   "source": [
    "def problem2_loss_function(AA, w, mm, lam):\n",
    "    return (ww-mm).Taa(ww-mm) + lam*np.sum(ww)"
   ]
  }
 ],
 "metadata": {
  "kernelspec": {
   "display_name": "Python 3",
   "language": "python",
   "name": "python3"
  },
  "language_info": {
   "codemirror_mode": {
    "name": "ipython",
    "version": 3
   },
   "file_extension": ".py",
   "mimetype": "text/x-python",
   "name": "python",
   "nbconvert_exporter": "python",
   "pygments_lexer": "ipython3",
   "version": "3.8.2"
  }
 },
 "nbformat": 4,
 "nbformat_minor": 4
}
