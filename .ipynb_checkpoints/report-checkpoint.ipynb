{
 "cells": [
  {
   "cell_type": "markdown",
   "metadata": {},
   "source": [
    "# problem1"
   ]
  },
  {
   "cell_type": "code",
   "execution_count": 1,
   "metadata": {},
   "outputs": [],
   "source": [
    "# ML課題\n",
    "# (1)\n",
    "import numpy as np"
   ]
  },
  {
   "cell_type": "code",
   "execution_count": 2,
   "metadata": {},
   "outputs": [],
   "source": [
    "def function(xx, ww):\n",
    "    # ww is numpy matrix\n",
    "    return 2 * (np.dot(ww, xx) > 0) - 1\n"
   ]
  },
  {
   "cell_type": "code",
   "execution_count": 3,
   "metadata": {},
   "outputs": [],
   "source": [
    "def J(xx, y, ww, lam):\n",
    "    res = 0\n",
    "    for i in range(n):\n",
    "        res = np.log(1+np.exp(-y[i]*np.dot(ww,xx[i])))\n",
    "    res += lam * np.dot(ww, ww)\n",
    "    return res"
   ]
  },
  {
   "cell_type": "code",
   "execution_count": 4,
   "metadata": {},
   "outputs": [],
   "source": [
    "# dataset\n",
    "def make_dataset(n):\n",
    "    x = 3 * (np.random.rand(n,4) - 0.5)\n",
    "    y = (2 * x[:,0] - 1 * x[:,2] + 0.5 + 0.5*np.random.randn(1,n)) > 0\n",
    "    y = 2 * y - 1\n",
    "    y = y.T\n",
    "    return x, y"
   ]
  },
  {
   "cell_type": "code",
   "execution_count": 44,
   "metadata": {},
   "outputs": [],
   "source": [
    "# optimize algorithm1\n",
    "def gradient(xx, y, ww, lam):\n",
    "    res = 0\n",
    "    for i in range(n):\n",
    "        res += -y[i]*xx[i]*np.exp(-y[i]*np.dot(ww, xx[i])) / (1+np.exp(-y[i]*np.dot(ww, xx[i])))\n",
    "    res += 2*lam*ww\n",
    "    return res\n",
    "\n",
    "\n",
    "# optimize algorithm2\n",
    "def newton(xx, y, ww, lam):\n",
    "    res = 0\n",
    "    for i in range(n):\n",
    "        tmp = -y[i] * xx[i] * np.exp(-y[i]*np.dot(ww,xx[i]))\n",
    "        \n",
    "        tmp *= -y[i]**2 * np.dot(xx[i],xx[i]) * np.exp(-y[i]*np.dot(ww,xx[i]))\n",
    "        tmp *= (1 + np.exp(-y[i]*np.dot(ww,xx[i])))\n",
    "        \n",
    "        tmp2 = (-y[i] * xx[i] * np.exp(-y[i]*np.dot(ww,xx[i])))**2\n",
    "        tmp2 *= (1 + np.exp(-y[i]*np.dot(ww,xx[i])))\n",
    "        \n",
    "        tmp3 = (1 + np.exp(-y[i]*np.dot(ww,xx[i])))**2\n",
    "        \n",
    "            \n",
    "        res += (tmp-tmp2) / tmp3\n",
    "        \n",
    "    res += 2*lam\n",
    "    res /= n\n",
    "    \n",
    "#     print(res)\n",
    "    return res\n",
    "\n",
    "\n",
    "def optimizer(num, xx, y, ww, lam, eta):\n",
    "    if num == 0:\n",
    "        grad = gradient(xx, y, ww, lam)\n",
    "    if num == 1:\n",
    "        grad = newton(xx, y, ww, lam)\n",
    "#     print(ww)\n",
    "    ww = ww - eta*grad\n",
    "    return ww"
   ]
  },
  {
   "cell_type": "code",
   "execution_count": 55,
   "metadata": {
    "scrolled": true
   },
   "outputs": [
    {
     "data": {
      "text/plain": [
       "[<matplotlib.lines.Line2D at 0x14120700>]"
      ]
     },
     "execution_count": 55,
     "metadata": {},
     "output_type": "execute_result"
    },
    {
     "data": {
      "image/png": "[encoded data removed]",
      "text/plain": [
       "<Figure size 432x288 with 1 Axes>"
      ]
     },
     "metadata": {
      "needs_background": "light"
     },
     "output_type": "display_data"
    }
   ],
   "source": [
    "n = 200\n",
    "xx, y = make_dataset(n)\n",
    "np.random.seed(1234)\n",
    "\n",
    "ww = np.random.rand(4)\n",
    "lam = 0.001\n",
    "eta = 0.01\n",
    "\n",
    "num_update = 100\n",
    "losses = np.zeros([num_update, 1])\n",
    "wws_grad = np.zeros([num_update, 4])\n",
    "\n",
    "opt = 0 #opt = 0 is grad,  opt = 1 is newton\n",
    "for i in range(num_update):\n",
    "    ww = optimizer(opt, xx, y, ww, lam, eta)\n",
    "    loss = J(xx, y, ww, lam)\n",
    "    losses[i] = loss\n",
    "    wws_grad[i] = ww\n",
    "#     print(loss)\n",
    "\n",
    "# print(losses)\n",
    "wwhat_grad = ww\n",
    "num = np.linspace(0, num_update, num_update)\n",
    "import matplotlib.pyplot as plt\n",
    "plt.plot(num, losses, label=\"test\")"
   ]
  },
  {
   "cell_type": "code",
   "execution_count": 66,
   "metadata": {},
   "outputs": [
    {
     "data": {
      "text/plain": [
       "[<matplotlib.lines.Line2D at 0x16276688>]"
      ]
     },
     "execution_count": 66,
     "metadata": {},
     "output_type": "execute_result"
    },
    {
     "data": {
      "image/png": "[encoded data removed]",
      "text/plain": [
       "<Figure size 432x288 with 1 Axes>"
      ]
     },
     "metadata": {
      "needs_background": "light"
     },
     "output_type": "display_data"
    }
   ],
   "source": [
    "n = 200\n",
    "xx, y = make_dataset(n)\n",
    "np.random.seed(1234)\n",
    "\n",
    "ww = np.random.rand(4)\n",
    "lam = 0.001\n",
    "eta = 0.0001\n",
    "\n",
    "num_update = 100\n",
    "losses = np.zeros([num_update, 1])\n",
    "wws_newton = np.zeros([num_update, 4])\n",
    "\n",
    "opt = 1 #opt = 0 is grad,  opt = 1 is newton\n",
    "for i in range(num_update):\n",
    "    ww = optimizer(opt, xx, y, ww, lam, eta)\n",
    "    loss = J(xx, y, ww, lam)\n",
    "    losses[i] = loss\n",
    "    wws_newton[i] = ww\n",
    "#     print(loss)\n",
    "# print(losses)\n",
    "wwhat_newton = ww\n",
    "num = np.linspace(0, num_update, num_update)\n",
    "import matplotlib.pyplot as plt\n",
    "plt.plot(num, losses, label=\"test\")"
   ]
  },
  {
   "cell_type": "code",
   "execution_count": 57,
   "metadata": {},
   "outputs": [
    {
     "name": "stdout",
     "output_type": "stream",
     "text": [
      "[ 0.83992742 -0.68222218 -0.67060723  0.90561653]\n",
      "0.13435732510177542 [ 0.15150782 -0.44150986 -0.31538689  0.73974626]\n",
      "(4,)\n"
     ]
    }
   ],
   "source": [
    "xx[0].shape\n",
    "ww.shape\n",
    "print(xx[0].T)\n",
    "print(np.dot(xx[0], ww), xx[0].T*ww)\n",
    "print(xx[0].T.shape)"
   ]
  },
  {
   "cell_type": "code",
   "execution_count": 77,
   "metadata": {},
   "outputs": [
    {
     "data": {
      "text/plain": [
       "[<matplotlib.lines.Line2D at 0x175ba298>]"
      ]
     },
     "execution_count": 77,
     "metadata": {},
     "output_type": "execute_result"
    },
    {
     "data": {
      "image/png": "[encoded data removed]",
      "text/plain": [
       "<Figure size 432x288 with 1 Axes>"
      ]
     },
     "metadata": {
      "needs_background": "light"
     },
     "output_type": "display_data"
    }
   ],
   "source": [
    "Jwwhat_grad = J(xx, y, wwhat_grad, lam)\n",
    "Jwwhat_newton = J(xx, y, wwhat_grad, lam)\n",
    "\n",
    "history_grad = np.zeros([num_update, 1])\n",
    "history_newton = np.zeros([num_update, 1])\n",
    "\n",
    "# print(history_newton)\n",
    "for i in range(num_update):\n",
    "    history_grad[i] = abs(J(xx, y, wws_grad[i], lam) - Jwwhat_grad)\n",
    "    history_newton[i] = abs(J(xx, y, wws_newton[i], lam) - Jwwhat_newton)\n",
    "\n",
    "num = np.linspace(0, num_update, num_update)\n",
    "import matplotlib.pyplot as plt\n",
    "plt.yscale('log')\n",
    "plt.plot(num, history_grad, label=\"test\")\n",
    "plt.plot(num, history_newton, label=\"test\")"
   ]
  },
  {
   "cell_type": "code",
   "execution_count": 86,
   "metadata": {},
   "outputs": [
    {
     "ename": "ValueError",
     "evalue": "operands could not be broadcast together with shapes (2,200,1) (3,3) ",
     "output_type": "error",
     "traceback": [
      "\u001b[1;31m---------------------------------------------------------------------------\u001b[0m",
      "\u001b[1;31mValueError\u001b[0m                                Traceback (most recent call last)",
      "\u001b[1;32m<ipython-input-86-1168c4bdd70b>\u001b[0m in \u001b[0;36m<module>\u001b[1;34m\u001b[0m\n\u001b[0;32m      7\u001b[0m              [1, 2, 3]])\n\u001b[0;32m      8\u001b[0m \u001b[1;33m\u001b[0m\u001b[0m\n\u001b[1;32m----> 9\u001b[1;33m \u001b[0mprint\u001b[0m\u001b[1;33m(\u001b[0m\u001b[1;33m[\u001b[0m\u001b[0mx\u001b[0m\u001b[1;33m[\u001b[0m\u001b[1;33m:\u001b[0m\u001b[1;33m,\u001b[0m \u001b[1;36m0\u001b[0m\u001b[1;33m:\u001b[0m\u001b[1;36m1\u001b[0m\u001b[1;33m]\u001b[0m\u001b[1;33m,\u001b[0m \u001b[0mnp\u001b[0m\u001b[1;33m.\u001b[0m\u001b[0mones\u001b[0m\u001b[1;33m(\u001b[0m\u001b[1;33m[\u001b[0m\u001b[0mn\u001b[0m\u001b[1;33m,\u001b[0m \u001b[1;36m1\u001b[0m\u001b[1;33m]\u001b[0m\u001b[1;33m)\u001b[0m\u001b[1;33m]\u001b[0m \u001b[1;33m*\u001b[0m \u001b[0mW\u001b[0m\u001b[1;33m.\u001b[0m\u001b[0mT\u001b[0m\u001b[1;33m)\u001b[0m\u001b[1;33m\u001b[0m\u001b[1;33m\u001b[0m\u001b[0m\n\u001b[0m\u001b[0;32m     10\u001b[0m \u001b[1;31m# print(max([x[:, 0:1], np.ones([n, 1])] * W.T + 0.5 * np.random.rand(n, 3)))\u001b[0m\u001b[1;33m\u001b[0m\u001b[1;33m\u001b[0m\u001b[1;33m\u001b[0m\u001b[0m\n\u001b[0;32m     11\u001b[0m \u001b[1;31m# [maxlogit, y] = max([x(:, 1:2), np.ones([n, 1])] * W + 0.5 * np.random.rand(n, 3))\u001b[0m\u001b[1;33m\u001b[0m\u001b[1;33m\u001b[0m\u001b[1;33m\u001b[0m\u001b[0m\n",
      "\u001b[1;31mValueError\u001b[0m: operands could not be broadcast together with shapes (2,200,1) (3,3) "
     ]
    }
   ],
   "source": [
    "#dataset V\n",
    "import numpy as np\n",
    "n = 200\n",
    "x = 3 * (np.random.rand(n, 4) - 0.5)\n",
    "W = np.array([[2, -1, 0.5],\n",
    "             [-3, 2, 1],\n",
    "             [1, 2, 3]])\n",
    "\n",
    "print([x[:, 0:1], np.ones([n, 1])] * W.T)\n",
    "# print(max([x[:, 0:1], np.ones([n, 1])] * W.T + 0.5 * np.random.rand(n, 3)))\n",
    "# [maxlogit, y] = max([x(:, 1:2), np.ones([n, 1])] * W + 0.5 * np.random.rand(n, 3))"
   ]
  },
  {
   "cell_type": "markdown",
   "metadata": {},
   "source": [
    "# problem2"
   ]
  },
  {
   "cell_type": "code",
   "execution_count": 8,
   "metadata": {},
   "outputs": [],
   "source": [
    "import numpy as np"
   ]
  },
  {
   "cell_type": "code",
   "execution_count": 9,
   "metadata": {},
   "outputs": [],
   "source": [
    "def problem2_loss_function(AA, w, mm, lam):\n",
    "    return (ww-mm).reshape(2, 1) * AA * (ww-mm) + lam * np.sum(abs(ww))"
   ]
  },
  {
   "cell_type": "code",
   "execution_count": 87,
   "metadata": {},
   "outputs": [],
   "source": [
    "# 微分可能な方をf(x), 不可能な方をg(x)とおく\n",
    "def f(ww, uu, A):\n",
    "    return np.dot((ww - uu), A*(ww - uu))\n",
    "\n",
    "def g(ww, lam):\n",
    "    return lam * np.sum(abs(ww))\n",
    "\n"
   ]
  },
  {
   "cell_type": "code",
   "execution_count": null,
   "metadata": {},
   "outputs": [],
   "source": [
    "def f_bibun(ww):\n",
    "    w0 = w[0]\n",
    "    w1 = w[1]\n",
    "    return 3 * (w0 - 1) ** 2 + (w0 - 1)(w1 - 2) + (w1-2) ** 2\n"
   ]
  }
 ],
 "metadata": {
  "kernelspec": {
   "display_name": "Python 3",
   "language": "python",
   "name": "python3"
  },
  "language_info": {
   "codemirror_mode": {
    "name": "ipython",
    "version": 3
   },
   "file_extension": ".py",
   "mimetype": "text/x-python",
   "name": "python",
   "nbconvert_exporter": "python",
   "pygments_lexer": "ipython3",
   "version": "3.8.2"
  }
 },
 "nbformat": 4,
 "nbformat_minor": 4
}
